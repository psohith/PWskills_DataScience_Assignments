{
 "cells": [
  {
   "cell_type": "markdown",
   "id": "df9985c5-27f3-40f4-bb71-ab0f19f6a565",
   "metadata": {},
   "source": [
    "Q1. Which keyword is used to create a function? Create a function to return a list of odd numbers in the\n",
    "range of 1 to 25.\n",
    "\n",
    "\n",
    "**Answer:**\n",
    "\n",
    "\n",
    "The keyword used to create a function in Python is def. The syntax for creating a function is as follows:\n",
    "\n",
    "syntax:\n",
    "def function_name(arguments):\n",
    "  body\n"
   ]
  },
  {
   "cell_type": "code",
   "execution_count": 2,
   "id": "052f2e14-88ef-40df-887b-8fa135ed6ed3",
   "metadata": {},
   "outputs": [
    {
     "data": {
      "text/plain": [
       "[1, 3, 5, 7, 9, 11, 13, 15, 17, 19, 21, 23, 25]"
      ]
     },
     "execution_count": 2,
     "metadata": {},
     "output_type": "execute_result"
    }
   ],
   "source": [
    "def odd_numbers():\n",
    "  \"\"\"Returns a list of odd numbers in the range of 1 to 25.\"\"\"\n",
    "  odd_numbers = []\n",
    "  for i in range(1, 26):\n",
    "    if i % 2 == 1:\n",
    "      odd_numbers.append(i)\n",
    "\n",
    "  return odd_numbers\n",
    "\n",
    "odd_numbers()"
   ]
  },
  {
   "cell_type": "code",
   "execution_count": null,
   "id": "597baf24-84c8-4516-838a-1736bb89ff8d",
   "metadata": {},
   "outputs": [],
   "source": []
  },
  {
   "cell_type": "markdown",
   "id": "7882c3b0-a291-4127-a682-731cfa4c1adb",
   "metadata": {},
   "source": [
    "Q2. Why *args and **kwargs is used in some functions? Create a function each for *args and **kwargs to\n",
    "demonstrate their use.\n",
    "\n",
    "**Answer :**\n",
    "\n",
    "*args and **kwargs are used in some functions to allow the function to take an arbitrary number of arguments. *args is used to take an arbitrary number of positional arguments, while **kwargs is used to take an arbitrary number of keyword arguments.\n",
    "\n",
    "\n"
   ]
  },
  {
   "cell_type": "code",
   "execution_count": 5,
   "id": "b96937a8-41ee-4aab-a8c3-1825ae6396d4",
   "metadata": {},
   "outputs": [
    {
     "name": "stdout",
     "output_type": "stream",
     "text": [
      "34\n",
      "559\n",
      "87\n"
     ]
    }
   ],
   "source": [
    "# *arg example\n",
    "\n",
    "def fun1(*args):\n",
    "  \"\"\"Prints the arguments.\"\"\"\n",
    "  for arg in args:\n",
    "    print(arg)\n",
    "    \n",
    "fun1(\"34\",559,87)"
   ]
  },
  {
   "cell_type": "code",
   "execution_count": 6,
   "id": "21f43d76-5a42-4a5d-b68a-79875739debd",
   "metadata": {},
   "outputs": [
    {
     "name": "stdout",
     "output_type": "stream",
     "text": [
      "name: Bard\n",
      "age: 100\n"
     ]
    }
   ],
   "source": [
    "# function that uses **kwargs:\n",
    "def fun2(**kwargs):\n",
    "    for key, value in kwargs.items():\n",
    "        print(f\"{key}: {value}\")\n",
    "\n",
    "fun2(name=\"Bard\", age=100)"
   ]
  },
  {
   "cell_type": "code",
   "execution_count": null,
   "id": "12944c44-84e2-43ba-a65b-0aae37dd536c",
   "metadata": {},
   "outputs": [],
   "source": []
  },
  {
   "cell_type": "markdown",
   "id": "bf967a49-87ac-48e0-931f-328bee893233",
   "metadata": {},
   "source": [
    "Q3. What is an iterator in python? Name the method used to initialise the iterator object and the method\n",
    "used for iteration. Use these methods to print the first five elements of the given list [2, 4, 6, 8, 10, 12, 14, 16,\n",
    "18, 20].\n",
    "\n",
    "\n",
    "**ANSWER :**\n",
    "\n",
    "An iterator is an object that can be used to iterate over a sequence of values. An iterator is created using the iter() function. The iter() function takes an iterable as input and returns an iterator object.\n",
    "\n",
    "you can use the next() function to get the next element of the sequence. The next() function raises a StopIteration exception if there are no more elements in the sequence. \n"
   ]
  },
  {
   "cell_type": "code",
   "execution_count": 7,
   "id": "d60a6b52-1d95-43a7-893e-eee2c25b1d5c",
   "metadata": {},
   "outputs": [
    {
     "name": "stdout",
     "output_type": "stream",
     "text": [
      "2\n",
      "4\n",
      "6\n",
      "8\n",
      "10\n"
     ]
    }
   ],
   "source": [
    "numbers = [2, 4, 6, 8, 10, 12, 14, 16, 18, 20]\n",
    "\n",
    "iterator = iter(numbers)\n",
    "print(next(iterator))\n",
    "print(next(iterator))\n",
    "print(next(iterator))\n",
    "print(next(iterator))\n",
    "print(next(iterator))\n"
   ]
  },
  {
   "cell_type": "code",
   "execution_count": null,
   "id": "1839b726-143f-4cc5-92e8-358b66e15ebb",
   "metadata": {},
   "outputs": [],
   "source": []
  },
  {
   "cell_type": "markdown",
   "id": "a25b4aee-371b-4df4-93a1-5b0cf80d7777",
   "metadata": {},
   "source": [
    "Q4. What is a generator function in python? Why yield keyword is used? Give an example of a generator\n",
    "function.\n",
    "\n",
    "**Answer :**\n",
    "\n",
    "\n",
    "A generator function is a special type of function that returns an iterator. Generator functions are used to create sequences of values that are not stored in memory all at once. This can be useful for large or infinite sequences of values, as it can save memory and improve performance.\n",
    "\n",
    "The yield keyword is used in generator functions to return a value from the function without actually finishing the function. The next time the function is called, it will resume from the point where it left off. This allows generator functions to create sequences of values that are not stored in memory all at once.\n",
    "\n"
   ]
  },
  {
   "cell_type": "code",
   "execution_count": 9,
   "id": "0cea3e1c-4fab-4932-ac15-3a778aed5841",
   "metadata": {},
   "outputs": [
    {
     "name": "stdout",
     "output_type": "stream",
     "text": [
      "0\n",
      "1\n",
      "2\n",
      "3\n",
      "4\n",
      "5\n",
      "6\n",
      "7\n",
      "8\n",
      "9\n"
     ]
    }
   ],
   "source": [
    "def my_generator_function():\n",
    "    for i in range(10):\n",
    "        yield i\n",
    "    \n",
    "for number in my_generator_function():\n",
    "    print(number)"
   ]
  },
  {
   "cell_type": "code",
   "execution_count": null,
   "id": "bf825b80-52b8-4344-8e15-13ab53b7c742",
   "metadata": {},
   "outputs": [],
   "source": []
  },
  {
   "cell_type": "markdown",
   "id": "22ee5c31-f9d9-46f4-b7ca-30d1f140a5e6",
   "metadata": {},
   "source": [
    "Q5. Create a generator function for prime numbers less than 1000. Use the next() method to print the\n",
    "first 20 prime numbers."
   ]
  },
  {
   "cell_type": "code",
   "execution_count": 20,
   "id": "90de2cc3-8b82-402c-b097-977625766043",
   "metadata": {},
   "outputs": [
    {
     "name": "stdout",
     "output_type": "stream",
     "text": [
      "2\n",
      "3\n",
      "5\n",
      "7\n",
      "11\n",
      "13\n",
      "17\n",
      "19\n",
      "23\n",
      "29\n",
      "31\n",
      "37\n",
      "41\n",
      "43\n",
      "47\n",
      "53\n",
      "59\n",
      "61\n",
      "67\n",
      "71\n"
     ]
    }
   ],
   "source": [
    "def prime_generator():\n",
    "    yield 2  # 2 is the first prime number\n",
    "    primes = [2]  # List to store prime numbers\n",
    "    num = 3  # Starting number to check for primality\n",
    "\n",
    "    while num < 1000:\n",
    "        is_prime = True\n",
    "        for prime in primes:\n",
    "            if prime * prime > num:\n",
    "                break\n",
    "            if num % prime == 0:\n",
    "                is_prime = False\n",
    "                break\n",
    "\n",
    "        if is_prime:\n",
    "            primes.append(num)\n",
    "            yield num\n",
    "\n",
    "        num += 2  # Check only odd numbers for efficiency\n",
    "\n",
    "# Generate and print the first 20 prime numbers\n",
    "prime_gen = prime_generator()\n",
    "for _ in range(20):\n",
    "    print(next(prime_gen))\n"
   ]
  }
 ],
 "metadata": {
  "kernelspec": {
   "display_name": "Python 3 (ipykernel)",
   "language": "python",
   "name": "python3"
  },
  "language_info": {
   "codemirror_mode": {
    "name": "ipython",
    "version": 3
   },
   "file_extension": ".py",
   "mimetype": "text/x-python",
   "name": "python",
   "nbconvert_exporter": "python",
   "pygments_lexer": "ipython3",
   "version": "3.10.8"
  }
 },
 "nbformat": 4,
 "nbformat_minor": 5
}
