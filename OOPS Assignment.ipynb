{
 "cells": [
  {
   "cell_type": "markdown",
   "id": "5b61b567",
   "metadata": {},
   "source": [
    "Q1. Explain Class and Object with respect to Object-Oriented Programming. Give a suitable example.\n",
    "\n",
    "**Answer**\n",
    "* In object-oriented programming (OOP), a class is a blueprint for creating objects. It defines the data and behavior that all objects of that type share. An object is an instance of a class. It has its own unique data and behavior, which is determined by the class from which it was created.\n",
    "\n",
    "`Example :`\n",
    "A good example of a class is a Car class. This class would define the data and behavior that all cars share, such as the car's make, model, year, color, and speed. An object would be a specific car, such as a 2023 Toyota Camry. This car would have its own unique data, such as its license plate number and VIN number, and its own unique behavior, such as its current speed and fuel level."
   ]
  },
  {
   "cell_type": "code",
   "execution_count": 1,
   "id": "a60e9208",
   "metadata": {},
   "outputs": [
    {
     "name": "stdout",
     "output_type": "stream",
     "text": [
      "The car is driving.\n",
      "The car is stopping.\n"
     ]
    }
   ],
   "source": [
    "class Car:\n",
    "\n",
    "    def __init__(self, make, model, year, color):\n",
    "        self.make = make\n",
    "        self.model = model\n",
    "        self.year = year\n",
    "        self.color = color\n",
    "\n",
    "    def drive(self):\n",
    "        print(\"The car is driving.\")\n",
    "\n",
    "    def stop(self):\n",
    "        print(\"The car is stopping.\")\n",
    "\n",
    "my_car = Car(\"Toyota\", \"Camry\", 2023, \"blue\")\n",
    "\n",
    "my_car.drive()\n",
    "my_car.stop()"
   ]
  },
  {
   "cell_type": "code",
   "execution_count": null,
   "id": "9b23635f",
   "metadata": {},
   "outputs": [],
   "source": []
  },
  {
   "cell_type": "markdown",
   "id": "ac288af3",
   "metadata": {},
   "source": [
    "Q2. Name the four pillars of OOPs.\n",
    "\n",
    "**Answer : **\n",
    "\n",
    "The four pillars of object-oriented programming (OOP) are:\n",
    "\n",
    "* `Encapsulation`: Encapsulation is the process of bundling data and methods (functions) that operate on that data into a single unit called an object. It involves hiding the internal details of an object and providing a public interface through which other objects can interact with it. Encapsulation helps in achieving data abstraction and information hiding, which improves code organization, reusability, and security.\n",
    "\n",
    "* `Inheritance` : Inheritance is a mechanism that allows a class to inherit properties and behaviors from another class. It enables code reuse and the creation of hierarchical relationships between classes. The class that is inherited from is called the base class or superclass, and the class that inherits is called the derived class or subclass. Inheritance promotes code reuse, modularity, and extensibility.\n",
    "\n",
    "* `Polymorphism` : Polymorphism allows objects of different classes to be treated as objects of a common superclass. It enables the same method or function to have different behaviors based on the object type. Polymorphism is achieved through method overriding (providing a different implementation of a method in a derived class) and method overloading (defining multiple methods with the same name but different parameters). Polymorphism enhances flexibility, modularity, and code reusability.\n",
    "\n",
    "* `Abstraction` : Abstraction is the process of simplifying complex systems by breaking them down into smaller, manageable units. It involves capturing essential features and behaviors while hiding unnecessary details. Abstraction provides a high-level view of an object or system, focusing on the relevant characteristics and interactions. It allows developers to create abstract classes and interfaces that define contracts and common behaviors without specifying the implementation details. Abstraction helps in managing complexity, promoting modularity, and facilitating code maintenance.\n",
    "\n",
    "These pillars of OOP provide principles and concepts that support the design and development of modular, reusable, and maintainable software systems. They encourage code organization, encapsulation of data and behavior, code reuse, flexibility, and modularity.\n",
    "\n",
    "\n",
    "\n",
    "\n",
    "\n"
   ]
  },
  {
   "cell_type": "code",
   "execution_count": null,
   "id": "6bf017e7",
   "metadata": {},
   "outputs": [],
   "source": []
  },
  {
   "cell_type": "markdown",
   "id": "1e223ba7",
   "metadata": {},
   "source": [
    "Q3. Explain why the __init__() function is used. Give a suitable example.\n",
    "\n",
    "**Answer**\n",
    "\n",
    "The __init__() function is used to initialize the attributes of an object when it is created. It is called automatically when an object is created from a class. The __init__() function is similar to the constructor in other programming languages.\n",
    "\n",
    "* It allows you to initialize the attributes of an object when it is created. This makes your code more organized and easier to maintain.\n",
    "* It prevents you from accidentally accessing an object's attributes before they have been initialized.\n",
    "* It allows you to set default values for an object's attributes. This can be useful if you want to ensure that all objects of a particular class have certain attributes.\n",
    "\n",
    "Here is an example of a __init__() function:\n"
   ]
  },
  {
   "cell_type": "code",
   "execution_count": 5,
   "id": "a445ebd9",
   "metadata": {},
   "outputs": [
    {
     "name": "stdout",
     "output_type": "stream",
     "text": [
      "Name: John Doe\n",
      "Age: 30\n"
     ]
    }
   ],
   "source": [
    "class Person:\n",
    "    def __init__(self, name, age):\n",
    "        self.name = name\n",
    "        self.age = age\n",
    "\n",
    "    def print_info(self):\n",
    "        print(\"Name:\", self.name)\n",
    "        print(\"Age:\", self.age)\n",
    "\n",
    "\n",
    "person = Person(\"John Doe\", 30)\n",
    "person.print_info()"
   ]
  },
  {
   "cell_type": "code",
   "execution_count": null,
   "id": "86fdbf5a",
   "metadata": {},
   "outputs": [],
   "source": []
  },
  {
   "cell_type": "markdown",
   "id": "426db3d9",
   "metadata": {},
   "source": [
    "Q4. Why self is used in OOPs?\n",
    "\n",
    "**Answer :**\n",
    "    \n",
    "The self keyword is used in object-oriented programming (OOP) to refer to the current instance of the class. It is used in methods to access the attributes and methods of the class.\n",
    "\n",
    "In Python, methods are defined inside a class. The first parameter of every method is always self. This is because the method needs to be able to access the attributes and methods of the class.\n",
    "\n",
    "\n",
    "* Accessing instance attributes: By using self, you can access and modify the attributes (properties) of the current object within its methods. self.attribute_name refers to the specific attribute of the object.\n",
    "\n",
    "* Invoking other methods: self allows you to invoke other methods of the class within its own methods. This enables interaction between different methods of the object and facilitates code organization.\n",
    "\n",
    "* Differentiating instance and local variables: When a method has both local variables and instance variables with the same name, using self helps differentiate between the two. It ensures that the instance variables are accessed correctly within the method.\n",
    "\n",
    "* Multiple instances: In OOP, multiple instances of a class can exist simultaneously. Using self helps differentiate between different instances of the same class. Each instance has its own set of attributes, and self ensures that the methods operate on the correct instance.\n",
    "\n"
   ]
  },
  {
   "cell_type": "code",
   "execution_count": null,
   "id": "cb65fdca",
   "metadata": {},
   "outputs": [],
   "source": []
  },
  {
   "cell_type": "markdown",
   "id": "4b2719b1",
   "metadata": {},
   "source": [
    "Q5. What is inheritance? Give an example for each type of inheritance.\n",
    "\n",
    "**Answer :**\n",
    "\n",
    "\n",
    "Inheritance is a mechanism in object-oriented programming (OOP) that allows one class to inherit the properties and behaviors of another class. This is done by creating a subclass of the parent class. The subclass can then use the properties and methods of the parent class without having to define them again.\n",
    "\n"
   ]
  },
  {
   "cell_type": "markdown",
   "id": "66f1d3bc",
   "metadata": {},
   "source": [
    "* **Single inheritance** is when a class inherits from one other class. For example, the following code shows a class called Dog that inherits from the Animal class:"
   ]
  },
  {
   "cell_type": "code",
   "execution_count": 9,
   "id": "8a6021b4",
   "metadata": {},
   "outputs": [
    {
     "name": "stdout",
     "output_type": "stream",
     "text": [
      "I am an animal!\n",
      "Woof!\n"
     ]
    }
   ],
   "source": [
    "class Animal:\n",
    "    def speak(self):\n",
    "        print(\"I am an animal!\")\n",
    "\n",
    "class Dog(Animal):\n",
    "    def bark(self):\n",
    "        print(\"Woof!\")\n",
    "\n",
    "my_dog = Dog()\n",
    "my_dog.speak()\n",
    "my_dog.bark()"
   ]
  },
  {
   "cell_type": "markdown",
   "id": "64279c48",
   "metadata": {},
   "source": [
    "* **Multiple inheritance** : A class inherits from multiple base classes. For example:"
   ]
  },
  {
   "cell_type": "code",
   "execution_count": 10,
   "id": "8ae22f15",
   "metadata": {},
   "outputs": [
    {
     "name": "stdout",
     "output_type": "stream",
     "text": [
      "Method A\n",
      "Method B\n",
      "Method C\n"
     ]
    }
   ],
   "source": [
    "class A:\n",
    "    def method_a(self):\n",
    "        print(\"Method A\")\n",
    "\n",
    "class B:\n",
    "    def method_b(self):\n",
    "        print(\"Method B\")\n",
    "\n",
    "class C(A, B):\n",
    "    def method_c(self):\n",
    "        print(\"Method C\")\n",
    "\n",
    "\n",
    "c = C()\n",
    "c.method_a()  \n",
    "c.method_b()  \n",
    "c.method_c()  "
   ]
  },
  {
   "cell_type": "markdown",
   "id": "acc29401",
   "metadata": {},
   "source": [
    "**Multilevel Inheritance** :\n",
    "Multilevel inheritance involves a derived class inheriting from another derived class. It forms a hierarchical chain of inheritance. "
   ]
  },
  {
   "cell_type": "code",
   "execution_count": 11,
   "id": "65d65a36",
   "metadata": {},
   "outputs": [
    {
     "name": "stdout",
     "output_type": "stream",
     "text": [
      "Driving a vehicle\n",
      "Car accelerating\n",
      "Sports car racing\n"
     ]
    }
   ],
   "source": [
    "class Vehicle:\n",
    "    def drive(self):\n",
    "        print(\"Driving a vehicle\")\n",
    "\n",
    "class Car(Vehicle):\n",
    "    def accelerate(self):\n",
    "        print(\"Car accelerating\")\n",
    "\n",
    "class SportsCar(Car):\n",
    "    def race(self):\n",
    "        print(\"Sports car racing\")\n",
    "\n",
    "# Creating an instance of the SportsCar class\n",
    "sports_car = SportsCar()\n",
    "sports_car.drive()      \n",
    "sports_car.accelerate() \n",
    "sports_car.race()"
   ]
  },
  {
   "cell_type": "code",
   "execution_count": null,
   "id": "f660ca34",
   "metadata": {},
   "outputs": [],
   "source": []
  }
 ],
 "metadata": {
  "kernelspec": {
   "display_name": "Python 3 (ipykernel)",
   "language": "python",
   "name": "python3"
  },
  "language_info": {
   "codemirror_mode": {
    "name": "ipython",
    "version": 3
   },
   "file_extension": ".py",
   "mimetype": "text/x-python",
   "name": "python",
   "nbconvert_exporter": "python",
   "pygments_lexer": "ipython3",
   "version": "3.10.9"
  }
 },
 "nbformat": 4,
 "nbformat_minor": 5
}
