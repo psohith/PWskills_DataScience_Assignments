{
 "cells": [
  {
   "cell_type": "markdown",
   "id": "9e8bb26f",
   "metadata": {},
   "source": [
    "Q1, Create a vehicle class with an init method having instance variables as name_of_vehicle, max_speed\n",
    "and average_of_vehicle.\n",
    "\n",
    "**Answer :**"
   ]
  },
  {
   "cell_type": "code",
   "execution_count": 1,
   "id": "26867cb4",
   "metadata": {},
   "outputs": [
    {
     "name": "stdout",
     "output_type": "stream",
     "text": [
      "Name of vehicle: Car\n",
      "Maximum speed: 200\n",
      "Average speed: 100\n",
      "Name of vehicle: Bus\n",
      "Maximum speed: 100\n",
      "Average speed: 50\n"
     ]
    }
   ],
   "source": [
    "class Vehicle:\n",
    "    def __init__(self, name_of_vehicle, max_speed, average_of_vehicle):\n",
    "        self.name_of_vehicle = name_of_vehicle\n",
    "        self.max_speed = max_speed\n",
    "        self.average_of_vehicle = average_of_vehicle\n",
    "\n",
    "    def print_details(self):\n",
    "        print(\"Name of vehicle:\", self.name_of_vehicle)\n",
    "        print(\"Maximum speed:\", self.max_speed)\n",
    "        print(\"Average speed:\", self.average_of_vehicle)\n",
    "\n",
    "\n",
    "if __name__ == \"__main__\":\n",
    "    vehicle1 = Vehicle(\"Car\", 200, 100)\n",
    "    vehicle2 = Vehicle(\"Bus\", 100, 50)\n",
    "\n",
    "    vehicle1.print_details()\n",
    "    vehicle2.print_details()"
   ]
  },
  {
   "cell_type": "code",
   "execution_count": null,
   "id": "8654f1db",
   "metadata": {},
   "outputs": [],
   "source": []
  },
  {
   "cell_type": "markdown",
   "id": "2009ac4c",
   "metadata": {},
   "source": [
    "Q2. Create a child class car from the vehicle class created in Que 1, which will inherit the vehicle class.\n",
    "Create a method named seating_capacity which takes capacity as an argument and returns the name of\n",
    "the vehicle and its seating capacity.\n",
    "\n",
    "**Answer :**"
   ]
  },
  {
   "cell_type": "code",
   "execution_count": 3,
   "id": "de6a7569",
   "metadata": {},
   "outputs": [
    {
     "name": "stdout",
     "output_type": "stream",
     "text": [
      "Name of vehicle: Car\n",
      "Maximum speed: 200\n",
      "Average speed: 100\n",
      "None\n",
      "The Car has a seating capacity of 5.\n"
     ]
    }
   ],
   "source": [
    "class Car(Vehicle):\n",
    "    def seating_capacity(self, capacity):\n",
    "        return f\"The {self.name_of_vehicle} has a seating capacity of {capacity}.\"\n",
    "    \n",
    "car = Car(\"Car\", 200, 100)\n",
    "print(car.print_details())\n",
    "print(car.seating_capacity(5))"
   ]
  },
  {
   "cell_type": "code",
   "execution_count": null,
   "id": "35d7f113",
   "metadata": {},
   "outputs": [],
   "source": []
  },
  {
   "cell_type": "markdown",
   "id": "40cc333f",
   "metadata": {},
   "source": [
    "Q3. What is multiple inheritance? Write a python code to demonstrate multiple inheritance.\n",
    "\n",
    "**Answer :**\n",
    "    \n",
    "\n",
    "Multiple inheritance is a feature in object-oriented programming (OOP) that allows a class to inherit from multiple parent classes. This means that a class can inherit methods and attributes from all of its parent classes.\n",
    "\n",
    "In Python, multiple inheritance is implemented using the () syntax"
   ]
  },
  {
   "cell_type": "code",
   "execution_count": 5,
   "id": "f181066e",
   "metadata": {},
   "outputs": [
    {
     "name": "stdout",
     "output_type": "stream",
     "text": [
      "Flipper\n",
      "Mammal: Roar!\n"
     ]
    }
   ],
   "source": [
    "class Animal:\n",
    "    def __init__(self, name):\n",
    "        self.name = name\n",
    "\n",
    "class Mammal():\n",
    "    def speak(self):\n",
    "        return \"Mammal: Roar!\"\n",
    "\n",
    "\n",
    "class Dolphin(Mammal, Animal):\n",
    "    pass\n",
    "\n",
    "dolphin = Dolphin(\"Flipper\")\n",
    "print(dolphin.name)  # Output: Flipper\n",
    "print(dolphin.speak())  # Output: Mammal: Roar!\n"
   ]
  },
  {
   "cell_type": "code",
   "execution_count": null,
   "id": "5ea60f31",
   "metadata": {},
   "outputs": [],
   "source": []
  },
  {
   "cell_type": "markdown",
   "id": "0ad3f8a7",
   "metadata": {},
   "source": [
    "Q4. What are getter and setter in python? Create a class and create a getter and a setter method in this\n",
    "class.\n",
    "\n",
    "**Answer :**\n",
    "\n",
    "Getters and setters are methods in Python that allow you to get and set the value of an attribute. They are often used to control access to an attribute, or to perform some action when the attribute is accessed or changed.\n",
    "\n",
    "To create a getter and setter method in Python, you can use the @property and @property.setter\n"
   ]
  },
  {
   "cell_type": "code",
   "execution_count": 6,
   "id": "6580167b",
   "metadata": {},
   "outputs": [
    {
     "name": "stdout",
     "output_type": "stream",
     "text": [
      "Car\n",
      "New Car\n"
     ]
    }
   ],
   "source": [
    "class Car:\n",
    "    def __init__(self, name):\n",
    "        self._name = name\n",
    "\n",
    "    @property\n",
    "    def name(self):\n",
    "        return self._name\n",
    "\n",
    "    @name.setter\n",
    "    def name(self, name):\n",
    "        self._name = name\n",
    "\n",
    "\n",
    "if __name__ == \"__main__\":\n",
    "    car = Car(\"Car\")\n",
    "\n",
    "    print(car.name)\n",
    "    car.name = \"New Car\"\n",
    "    print(car.name)"
   ]
  },
  {
   "cell_type": "code",
   "execution_count": null,
   "id": "90063c3f",
   "metadata": {},
   "outputs": [],
   "source": []
  },
  {
   "cell_type": "markdown",
   "id": "e49002f9",
   "metadata": {},
   "source": [
    "Q5.What is method overriding in python? Write a python code to demonstrate method overriding.\n",
    "\n",
    "**Answer :**\n",
    "\n",
    "Method overriding is a feature of object-oriented programming (OOP) that allows a child class to provide a different implementation of a method that is already defined in its parent class. This allows the child class to customize the behavior of the method without having to rewrite the entire method.\n",
    "\n",
    "* Method overriding can only occur when the child class and parent class have methods with the same name, parameters, and return type.\n",
    "* If the child class and parent class have methods with the same name but different parameters or return types, this is not considered method overriding. This is called method overloading, which is not supported in Python.\n",
    "* When a method is overridden in a child class, the method in the parent class is not overwritten. The method in the parent class is still available, but it is hidden by the method in the child class.\n",
    "* Method overriding can be used to implement polymorphism, which is a fundamental concept in OOP. Polymorphism allows objects of different types to be treated in a uniform way.\n",
    "\n",
    "    \n"
   ]
  },
  {
   "cell_type": "code",
   "execution_count": 7,
   "id": "a4b6be59",
   "metadata": {},
   "outputs": [
    {
     "name": "stdout",
     "output_type": "stream",
     "text": [
      "Woof!\n"
     ]
    }
   ],
   "source": [
    "class Animal:\n",
    "\n",
    "    def speak(self):\n",
    "        print(\"I am an animal!\")\n",
    "\n",
    "class Dog(Animal):\n",
    "\n",
    "    def speak(self):\n",
    "        print(\"Woof!\")\n",
    "        \n",
    "dog = Dog()\n",
    "dog.speak()\n",
    "        "
   ]
  }
 ],
 "metadata": {
  "kernelspec": {
   "display_name": "Python 3 (ipykernel)",
   "language": "python",
   "name": "python3"
  },
  "language_info": {
   "codemirror_mode": {
    "name": "ipython",
    "version": 3
   },
   "file_extension": ".py",
   "mimetype": "text/x-python",
   "name": "python",
   "nbconvert_exporter": "python",
   "pygments_lexer": "ipython3",
   "version": "3.10.9"
  }
 },
 "nbformat": 4,
 "nbformat_minor": 5
}
