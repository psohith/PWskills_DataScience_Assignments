{
 "cells": [
  {
   "cell_type": "markdown",
   "id": "864babf1-aa51-470a-8d7c-b5e7707f2bed",
   "metadata": {},
   "source": [
    "Q1. Create a python program to sort the given list of tuples based on integer value using a\n",
    "lambda function."
   ]
  },
  {
   "cell_type": "code",
   "execution_count": 3,
   "id": "fb08030b-1b76-45ab-b496-364a77242e29",
   "metadata": {},
   "outputs": [
    {
     "name": "stdout",
     "output_type": "stream",
     "text": [
      "[('Virat Kohli', 24936), ('Jack Kallis', 25534), ('Ricky Ponting', 27483), ('Sachin Tendulkar', 34357)]\n"
     ]
    }
   ],
   "source": [
    "# answer\n",
    "def sort_tuples(tuples):\n",
    "  \"\"\"Sorts a list of tuples based on the integer value.\"\"\"\n",
    "  return sorted(tuples, key=lambda x: x[1])\n",
    "\n",
    "\n",
    "data = [('Sachin Tendulkar', 34357), ('Ricky Ponting', 27483), ('Jack Kallis', 25534), ('Virat Kohli', 24936)]\n",
    "\n",
    "sorted_tuples = sort_tuples(data)\n",
    "\n",
    "print(sorted_tuples)\n"
   ]
  },
  {
   "cell_type": "code",
   "execution_count": null,
   "id": "c081561a-a5e9-4eed-89f7-8b58ab88bb52",
   "metadata": {},
   "outputs": [],
   "source": []
  },
  {
   "cell_type": "code",
   "execution_count": null,
   "id": "6d7ae829-3f03-460e-81d0-87014ea3806c",
   "metadata": {},
   "outputs": [],
   "source": [
    "Q2. Write a Python Program to find the squares of all the numbers in the given list of integers using\n",
    "lambda and map functions."
   ]
  },
  {
   "cell_type": "code",
   "execution_count": 6,
   "id": "5bf59bb4-81d2-4d4d-8bcc-a99c20fe5639",
   "metadata": {},
   "outputs": [
    {
     "name": "stdout",
     "output_type": "stream",
     "text": [
      "[1, 4, 9, 16, 25, 36, 49, 64, 81, 100]\n"
     ]
    }
   ],
   "source": [
    "# answer\n",
    "\n",
    "data = [1, 2, 3, 4, 5, 6, 7, 8, 9, 10]\n",
    "\n",
    "sorted_data = map(lambda x :x**2 , data)\n",
    "\n",
    "print(list(sorted_data))\n"
   ]
  },
  {
   "cell_type": "code",
   "execution_count": null,
   "id": "08cbc76b-532a-410a-9d51-594d384dacad",
   "metadata": {},
   "outputs": [],
   "source": []
  },
  {
   "cell_type": "markdown",
   "id": "e0e047c4-b4ae-4697-ab89-90b701cb1475",
   "metadata": {},
   "source": [
    "Q3. Write a python program to convert the given list of integers into a tuple of strings. Use map and\n",
    "lambda functions\n",
    "\n",
    "Given String: [1, 2, 3, 4, 5, 6, 7, 8, 9, 10]\n",
    "\n",
    "Expected output: ('1', '2', '3', '4', '5', '6', '7', '8', '9', '10')"
   ]
  },
  {
   "cell_type": "code",
   "execution_count": 7,
   "id": "23ee1a51-8c49-476f-9057-3f885a350041",
   "metadata": {},
   "outputs": [
    {
     "data": {
      "text/plain": [
       "('1', '2', '3', '4', '5', '6', '7', '8', '9', '10')"
      ]
     },
     "execution_count": 7,
     "metadata": {},
     "output_type": "execute_result"
    }
   ],
   "source": [
    "def listInt_to_tupleStr(data):\n",
    "    return tuple(map(lambda x:str(x) , data))\n",
    "\n",
    "data = [1, 2, 3, 4, 5, 6, 7, 8, 9, 10]\n",
    "\n",
    "listInt_to_tupleStr(data)"
   ]
  },
  {
   "cell_type": "code",
   "execution_count": null,
   "id": "3a9b2ffc-68f5-44ef-baca-c333f84b06fe",
   "metadata": {},
   "outputs": [],
   "source": []
  },
  {
   "cell_type": "markdown",
   "id": "25eb65c7-57f2-47d9-ab06-ae07e14347a5",
   "metadata": {},
   "source": [
    "Q4. Write a python program using reduce function to compute the product of a list containing numbers\n",
    "from 1 to 25."
   ]
  },
  {
   "cell_type": "code",
   "execution_count": 12,
   "id": "2adebe64-9986-4ae2-aeee-a475db78931f",
   "metadata": {},
   "outputs": [
    {
     "name": "stdout",
     "output_type": "stream",
     "text": [
      "15511210043330985984000000\n"
     ]
    }
   ],
   "source": [
    "import functools\n",
    "\n",
    "nums = [i for i in range(1,26)]\n",
    "\n",
    "def prod(a,b):\n",
    "    return a*b\n",
    "\n",
    "total = functools.reduce(prod , nums)\n",
    "\n",
    "print(total)"
   ]
  },
  {
   "cell_type": "code",
   "execution_count": null,
   "id": "f2bf4efc-f181-459a-9151-b40c6ca7ad31",
   "metadata": {},
   "outputs": [],
   "source": []
  },
  {
   "cell_type": "markdown",
   "id": "66cf49db-e790-4928-bf38-56c6d908da18",
   "metadata": {},
   "source": [
    "Q5. Write a python program to filter the numbers in a given list that are divisible by 2 and 3 using the\n",
    "filter function.\n",
    "[2, 3, 6, 9, 27, 60, 90, 120, 55, 46]\n"
   ]
  },
  {
   "cell_type": "code",
   "execution_count": 14,
   "id": "218884cb-2a83-4b79-9111-0dac1eb93ec8",
   "metadata": {},
   "outputs": [
    {
     "data": {
      "text/plain": [
       "[6, 60, 90, 120]"
      ]
     },
     "execution_count": 14,
     "metadata": {},
     "output_type": "execute_result"
    }
   ],
   "source": [
    "data =  [2, 3, 6, 9, 27, 60, 90, 120, 55, 46]\n",
    "\n",
    "def condition(x):\n",
    "    return (x%2==0) and (x%3 ==0)\n",
    "\n",
    "def filter_list(data):\n",
    "    return list(filter(condition , data))\n",
    "\n",
    "\n",
    "filter_list(data)"
   ]
  },
  {
   "cell_type": "code",
   "execution_count": null,
   "id": "7f8fb496-69cf-4ae3-8b35-7ac473ffea39",
   "metadata": {},
   "outputs": [],
   "source": []
  },
  {
   "cell_type": "markdown",
   "id": "660a3cc7-a6d7-4b51-baa4-c554af52b2f1",
   "metadata": {},
   "source": [
    "Q6. Write a python program to find palindromes in the given list of strings using lambda and filter\n",
    "function.\n",
    "['python', 'php', 'aba', 'radar', 'level']"
   ]
  },
  {
   "cell_type": "code",
   "execution_count": 16,
   "id": "4aff066d-aed4-4f53-82a8-17fcbf169055",
   "metadata": {},
   "outputs": [
    {
     "data": {
      "text/plain": [
       "['php', 'aba', 'radar', 'level']"
      ]
     },
     "execution_count": 16,
     "metadata": {},
     "output_type": "execute_result"
    }
   ],
   "source": [
    "data = ['python', 'php', 'aba', 'radar', 'level']\n",
    "\n",
    "def return_palindromes(data):\n",
    "    return list(filter(lambda x :x == x[::-1] , data))\n",
    "\n",
    "return_palindromes(data)"
   ]
  }
 ],
 "metadata": {
  "kernelspec": {
   "display_name": "Python 3 (ipykernel)",
   "language": "python",
   "name": "python3"
  },
  "language_info": {
   "codemirror_mode": {
    "name": "ipython",
    "version": 3
   },
   "file_extension": ".py",
   "mimetype": "text/x-python",
   "name": "python",
   "nbconvert_exporter": "python",
   "pygments_lexer": "ipython3",
   "version": "3.10.8"
  }
 },
 "nbformat": 4,
 "nbformat_minor": 5
}
