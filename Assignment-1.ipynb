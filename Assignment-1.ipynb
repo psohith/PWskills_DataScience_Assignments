{
 "cells": [
  {
   "cell_type": "markdown",
   "id": "5c55b861-1c02-40f6-984b-96ffdfb72825",
   "metadata": {},
   "source": [
    "Q1. Create one variable containing following type of data:\n",
    "(i) string\n",
    "(ii) list\n",
    "(iii) float\n",
    "(iv) tuple"
   ]
  },
  {
   "cell_type": "code",
   "execution_count": 1,
   "id": "df64af37-5a20-4f14-8196-d54af575f4f6",
   "metadata": {},
   "outputs": [
    {
     "name": "stdout",
     "output_type": "stream",
     "text": [
      "<class 'str'>\n",
      "<class 'list'>\n",
      "<class 'float'>\n",
      "<class 'tuple'>\n"
     ]
    }
   ],
   "source": [
    "# answer\n",
    "data = (\"This is a string\", [1, 2, 3], 3.14, (\"a\", \"b\", \"c\"))\n",
    "\n",
    "# Print the type of each element in `data`\n",
    "print(type(data[0]))\n",
    "print(type(data[1]))\n",
    "print(type(data[2]))\n",
    "print(type(data[3]))"
   ]
  },
  {
   "cell_type": "code",
   "execution_count": null,
   "id": "dd1fb6fd-1cd3-4acc-9c5c-501c77b9ad77",
   "metadata": {},
   "outputs": [],
   "source": []
  },
  {
   "cell_type": "markdown",
   "id": "11003e8e-7c7c-41e5-8ca3-7855bc58a19a",
   "metadata": {},
   "source": [
    "Q2. Given are some following variables containing data:\n",
    "(i) var1 = ‘ ‘\n",
    "(ii) var2 = ‘[ DS , ML , Python]’\n",
    "(iii) var3 = [ ‘DS’ , ’ML’ , ‘Python’ ]\n",
    "(iv) var4 = 1.\n",
    "What will be the data type of the above given variable.\n",
    "\n",
    "**answer**\n",
    "\n",
    "i)   -> <class 'str'>\n",
    "\n",
    "ii)  -> <class 'str'>\n",
    "\n",
    "iii) -> <class 'list'>\n",
    "\n",
    "iv)  -> <class 'float'>\n"
   ]
  },
  {
   "cell_type": "code",
   "execution_count": null,
   "id": "e71d737f-07ea-4a13-9441-cac337eb1550",
   "metadata": {},
   "outputs": [],
   "source": []
  },
  {
   "cell_type": "markdown",
   "id": "0837a42c-3821-45b9-8ad4-94b33862bc37",
   "metadata": {},
   "source": [
    "Q3. Explain the use of the following operators using an example:\n",
    "(i) /\n",
    "(ii) %\n",
    "(iii) //\n",
    "(iv) **\n",
    "\n",
    "answers:\n",
    "i)  /  : This operator is used to divide the left operand by the right operand\n",
    "\n",
    "ii) %  : This operator is used to get the remainder of the division of the left operand by the right operand.\n",
    "\n",
    "iii)// : This operator is used to get the floor of the division of the left operand by the right operand\n",
    "\n",
    "iv)**  : This operator is used to raise the left operand to the power of the right operand. "
   ]
  },
  {
   "cell_type": "code",
   "execution_count": null,
   "id": "e0108c30-f220-492f-a0da-6ea3d38d5f92",
   "metadata": {},
   "outputs": [],
   "source": []
  },
  {
   "cell_type": "markdown",
   "id": "2c88fc58-bb30-4efc-bc38-02188ccdb74e",
   "metadata": {},
   "source": [
    "Q4. Create a list of length 10 of your choice containing multiple types of data. Using for loop print the\n",
    "element and its data type."
   ]
  },
  {
   "cell_type": "code",
   "execution_count": 1,
   "id": "e6d4cad1-3663-41cb-a580-91197f07a2b8",
   "metadata": {},
   "outputs": [
    {
     "name": "stdout",
     "output_type": "stream",
     "text": [
      "1 <class 'int'>\n",
      "hello <class 'str'>\n",
      "3.14 <class 'float'>\n",
      "True <class 'bool'>\n",
      "False <class 'bool'>\n",
      "world <class 'str'>\n",
      "[1, 2, 3] <class 'list'>\n",
      "{'a': 1, 'b': 2} <class 'dict'>\n",
      "(1, 2, 3) <class 'tuple'>\n",
      "None <class 'NoneType'>\n"
     ]
    }
   ],
   "source": [
    "# answer\n",
    "\n",
    "my_list = [1, \"hello\", 3.14, True, False, \"world\", [1, 2, 3], {\"a\": 1, \"b\": 2}, (1, 2, 3), None]\n",
    "\n",
    "for ele in my_list:\n",
    "    print(ele , type(ele))\n"
   ]
  },
  {
   "cell_type": "code",
   "execution_count": null,
   "id": "1d89b1ec-aa80-461d-91ce-c9bca90c5d87",
   "metadata": {},
   "outputs": [],
   "source": []
  },
  {
   "cell_type": "markdown",
   "id": "817d9c9c-08ef-464a-a78f-4911781be26e",
   "metadata": {},
   "source": [
    "Q5. Using a while loop, verify if the number A is purely divisible by number B and if so then how many\n",
    "times it can be divisible."
   ]
  },
  {
   "cell_type": "code",
   "execution_count": 10,
   "id": "0da4ad0f-c3c2-463f-a9e9-2bf3f0048a6f",
   "metadata": {},
   "outputs": [
    {
     "name": "stdin",
     "output_type": "stream",
     "text": [
      "Enter the first number:  12\n",
      "Enter the second number:  2\n"
     ]
    },
    {
     "name": "stdout",
     "output_type": "stream",
     "text": [
      "12 is divisible by 2 2 times.\n"
     ]
    }
   ],
   "source": [
    "# answer \n",
    "a = int(input(\"Enter the first number: \"))\n",
    "b = int(input(\"Enter the second number: \"))\n",
    "count = 0\n",
    "temp = a\n",
    "while temp % b == 0:\n",
    "    temp //= b\n",
    "    count += 1\n",
    "\n",
    "if count > 0:\n",
    "    print(f\"{a} is divisible by {b} {count} times.\")\n",
    "else:\n",
    "    print(f\"{a} is not divisible by {b}.\")"
   ]
  },
  {
   "cell_type": "code",
   "execution_count": null,
   "id": "aa642eb2-e213-46e8-a343-231fb58c12ce",
   "metadata": {},
   "outputs": [],
   "source": []
  },
  {
   "cell_type": "markdown",
   "id": "fa2a73c7-cacc-48d9-a2df-969463a57f83",
   "metadata": {},
   "source": [
    "Q6. Create a list containing 25 int type data. Using for loop and if-else condition print if the element is\n",
    "divisible by 3 or not."
   ]
  },
  {
   "cell_type": "code",
   "execution_count": 5,
   "id": "05fe3b06-b4dc-4a19-b3c4-11e0f0c6d478",
   "metadata": {},
   "outputs": [
    {
     "name": "stdout",
     "output_type": "stream",
     "text": [
      "The number is not divisible by 3\n",
      "The number is not divisible by 3\n",
      "The number is divisible by 3\n",
      "The number is not divisible by 3\n",
      "The number is not divisible by 3\n",
      "The number is divisible by 3\n",
      "The number is not divisible by 3\n",
      "The number is not divisible by 3\n",
      "The number is divisible by 3\n",
      "The number is not divisible by 3\n",
      "The number is not divisible by 3\n",
      "The number is divisible by 3\n",
      "The number is not divisible by 3\n",
      "The number is not divisible by 3\n",
      "The number is divisible by 3\n",
      "The number is not divisible by 3\n",
      "The number is not divisible by 3\n",
      "The number is divisible by 3\n",
      "The number is not divisible by 3\n",
      "The number is not divisible by 3\n",
      "The number is divisible by 3\n",
      "The number is not divisible by 3\n",
      "The number is not divisible by 3\n",
      "The number is divisible by 3\n",
      "The number is not divisible by 3\n"
     ]
    }
   ],
   "source": [
    "# answer\n",
    "\n",
    "list_of_numbers = [1, 2, 3, 4, 5, 6, 7, 8, 9, 10, 11, 12, 13, 14, 15, 16, 17, 18, 19, 20, 21, 22, 23, 24, 25]\n",
    "\n",
    "for number in list_of_numbers:\n",
    "    if number % 3 == 0:\n",
    "        print(\"The number is divisible by 3\")\n",
    "    else:\n",
    "        print(\"The number is not divisible by 3\")\n"
   ]
  },
  {
   "cell_type": "code",
   "execution_count": null,
   "id": "e44c9771-bd60-4ee2-ae92-07275218b101",
   "metadata": {},
   "outputs": [],
   "source": []
  },
  {
   "cell_type": "markdown",
   "id": "da73bf21-9b8f-444a-80e6-2067b3868343",
   "metadata": {},
   "source": [
    "Q7. What do you understand about mutable and immutable data types? Give examples for both showing\n",
    "this property."
   ]
  },
  {
   "cell_type": "markdown",
   "id": "7fa45f3f-47c9-48d5-adea-592f2d31c45a",
   "metadata": {},
   "source": [
    "### answer\n",
    "In Python, data types can be classified as mutable and immutable. Mutable data types can be changed after they are created, while immutable data types cannot be changed.\n",
    "\n",
    "Some examples of mutable data types are:\n",
    "\n",
    "Lists\n",
    "Dictionaries\n",
    "Sets\n",
    "Some examples of immutable data types are:\n",
    "\n",
    "Strings\n",
    "Tuples\n",
    "Integers\n",
    "Floats\n",
    "Booleans"
   ]
  },
  {
   "cell_type": "code",
   "execution_count": 6,
   "id": "e86892f1-385c-4b19-87b8-6f0c510c256a",
   "metadata": {},
   "outputs": [
    {
     "name": "stdout",
     "output_type": "stream",
     "text": [
      "[4, 2, 3]\n"
     ]
    }
   ],
   "source": [
    "# mutable\n",
    "\n",
    "my_list = [1, 2, 3]\n",
    "\n",
    "my_list[0] = 4\n",
    "\n",
    "print(my_list)\n"
   ]
  },
  {
   "cell_type": "code",
   "execution_count": 7,
   "id": "fae30051-7ffe-4fd6-9c28-309aa16f05b5",
   "metadata": {},
   "outputs": [
    {
     "ename": "TypeError",
     "evalue": "'str' object does not support item assignment",
     "output_type": "error",
     "traceback": [
      "\u001b[0;31m---------------------------------------------------------------------------\u001b[0m",
      "\u001b[0;31mTypeError\u001b[0m                                 Traceback (most recent call last)",
      "Cell \u001b[0;32mIn[7], line 3\u001b[0m\n\u001b[1;32m      1\u001b[0m \u001b[38;5;66;03m# immutable\u001b[39;00m\n\u001b[1;32m      2\u001b[0m my_string \u001b[38;5;241m=\u001b[39m \u001b[38;5;124m\"\u001b[39m\u001b[38;5;124mHello, world!\u001b[39m\u001b[38;5;124m\"\u001b[39m\n\u001b[0;32m----> 3\u001b[0m \u001b[43mmy_string\u001b[49m\u001b[43m[\u001b[49m\u001b[38;5;241;43m0\u001b[39;49m\u001b[43m]\u001b[49m \u001b[38;5;241m=\u001b[39m \u001b[38;5;124m\"\u001b[39m\u001b[38;5;124mH\u001b[39m\u001b[38;5;124m\"\u001b[39m\n",
      "\u001b[0;31mTypeError\u001b[0m: 'str' object does not support item assignment"
     ]
    }
   ],
   "source": [
    "# immutable\n",
    "my_string = \"Hello, world!\"\n",
    "my_string[0] = \"H\"\n"
   ]
  }
 ],
 "metadata": {
  "kernelspec": {
   "display_name": "Python 3 (ipykernel)",
   "language": "python",
   "name": "python3"
  },
  "language_info": {
   "codemirror_mode": {
    "name": "ipython",
    "version": 3
   },
   "file_extension": ".py",
   "mimetype": "text/x-python",
   "name": "python",
   "nbconvert_exporter": "python",
   "pygments_lexer": "ipython3",
   "version": "3.10.8"
  }
 },
 "nbformat": 4,
 "nbformat_minor": 5
}
