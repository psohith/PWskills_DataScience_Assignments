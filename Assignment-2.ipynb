{
 "cells": [
  {
   "cell_type": "markdown",
   "id": "8c034b3d-07c7-4df8-a3b5-f8f0bde7aba8",
   "metadata": {},
   "source": [
    "Q1. How do you comment code in Python? What are the different types of comments?\n",
    "\n",
    "**Answer**\n",
    "\n",
    "There are two types of comments in Python: single-line comments and multi-line comments.\n",
    "\n",
    "->Single-line comments are preceded by a hash symbol (#). Everything on the line after the hash symbol is ignored by the Python interpreter.\n",
    "\n",
    "->Multi-line comments are enclosed in triple quotes (''' or \"\"\"). Everything between the triple quotes is ignored by the Python interpreter."
   ]
  },
  {
   "cell_type": "code",
   "execution_count": 2,
   "id": "077a33cf-177d-4c66-9a48-1c867a7b9cd6",
   "metadata": {},
   "outputs": [
    {
     "name": "stdout",
     "output_type": "stream",
     "text": [
      "comments examples\n"
     ]
    }
   ],
   "source": [
    "# this is single line comment\n",
    "\"\"\"\n",
    "    this is multiline\n",
    "    comment\n",
    "\"\"\"\n",
    "\n",
    "print(\"comments examples\")"
   ]
  },
  {
   "cell_type": "code",
   "execution_count": null,
   "id": "6b751def-e77b-4a63-8f73-d35836d47294",
   "metadata": {},
   "outputs": [],
   "source": []
  },
  {
   "cell_type": "markdown",
   "id": "32c27524-55f2-475e-8235-576dd25eca0a",
   "metadata": {},
   "source": [
    "Q2. What are variables in Python? How do you declare and assign values to variables?\n",
    "\n",
    "**Answer** :\n",
    "\n",
    "In Python, a variable is a name that is used to refer to a value. Variables are used to store data and to refer to that data throughout your program.\n",
    "\n",
    "To declare a variable, you use the syntax\n",
    "\n",
    "### var_name = value "
   ]
  },
  {
   "cell_type": "code",
   "execution_count": 3,
   "id": "296531aa-e55d-4455-b246-159639c36661",
   "metadata": {},
   "outputs": [
    {
     "name": "stdout",
     "output_type": "stream",
     "text": [
      "sohith pamu\n"
     ]
    }
   ],
   "source": [
    "# example\n",
    "name = 'sohith pamu'\n",
    "print(name)"
   ]
  },
  {
   "cell_type": "code",
   "execution_count": null,
   "id": "a6ea6d0d-5bc4-4475-aa91-9bd60a2e5e20",
   "metadata": {},
   "outputs": [],
   "source": []
  },
  {
   "cell_type": "markdown",
   "id": "8c75140f-1067-4976-b62d-94848f32047d",
   "metadata": {},
   "source": [
    "Q3. How do you convert one data type to another in Python?\n",
    "\n",
    "**Answer :**\n",
    "There are a few ways to convert one data type to another in Python. One way is to use the built-in functions. For example, to convert a string to an integer, you can use the int() function. The int() function takes a string as input and returns an integer\n",
    "\n",
    "Here is a table of some of the built-in functions that can be used to convert data types:\n",
    "\n",
    "Data type  --\tBuilt-in function\n",
    "\n",
    "String     : \tstr()\n",
    "\n",
    "Integer    :\tint()\n",
    "\n",
    "Float      :\tfloat()\n",
    "\n",
    "Boolean\t   :   bool()\n",
    "\n",
    "List       :  \tlist()\n",
    "\n",
    "Tuple\t   :   tuple()\n",
    "\n",
    "Set\t       :   set()\n",
    "\n",
    "Dictionary :   dict()\n"
   ]
  },
  {
   "cell_type": "code",
   "execution_count": 4,
   "id": "7ec6449c-9414-45ec-b12f-93b431b4982c",
   "metadata": {},
   "outputs": [
    {
     "name": "stdout",
     "output_type": "stream",
     "text": [
      "123.45 <class 'float'>\n",
      "123 <class 'int'>\n"
     ]
    }
   ],
   "source": [
    "# example\n",
    "# Convert the string \"123.45\" to a float.\n",
    "temp = float(\"123.45\")\n",
    "print(temp, type(temp))\n",
    "# Convert the float 123.45 to a int.\n",
    "temp = int(temp)\n",
    "print(temp, type(temp))\n"
   ]
  },
  {
   "cell_type": "code",
   "execution_count": null,
   "id": "6aaf4bae-c0a5-4c29-8e55-76783a8439da",
   "metadata": {},
   "outputs": [],
   "source": []
  },
  {
   "cell_type": "markdown",
   "id": "c9d171a2-fbec-434d-bdce-552a3499b24d",
   "metadata": {},
   "source": [
    "Q4. How do you write and execute a Python script from the command line?\n",
    "\n",
    "**Answer:**\n",
    "To write and execute a Python script from the command line, you will need to:\n",
    "\n",
    "1)Create a new file with a .py extension.\n",
    "\n",
    "2)Write your Python code in the file.\n",
    "\n",
    "3)Save the file.\n",
    "\n",
    "4)Open a command prompt or terminal window.\n",
    "\n",
    "5)Navigate to the directory where you saved the file.\n",
    "\n",
    "6)Run the following command:\n",
    "\n",
    "    Code snippet:\n",
    "    >python filename.py"
   ]
  },
  {
   "cell_type": "code",
   "execution_count": null,
   "id": "b43179b0-0859-44a7-910e-fa87c01d11a3",
   "metadata": {},
   "outputs": [],
   "source": []
  },
  {
   "cell_type": "markdown",
   "id": "f0ac1b6d-45aa-475e-a427-b84f375cc080",
   "metadata": {},
   "source": [
    "Q5. Given a list my_list = [1, 2, 3, 4, 5], write the code to slice the list and obtain the sub-list [2, 3]."
   ]
  },
  {
   "cell_type": "code",
   "execution_count": 5,
   "id": "7c5770a2-19b0-4a94-80ba-aa4f7b05c8db",
   "metadata": {},
   "outputs": [
    {
     "name": "stdout",
     "output_type": "stream",
     "text": [
      "[2, 3]\n"
     ]
    }
   ],
   "source": [
    "# answer\n",
    "my_list = [1, 2, 3, 4, 5]\n",
    "\n",
    "# Slice the list from index 1 to index 3.\n",
    "sub_list = my_list[1:3]\n",
    "\n",
    "print(sub_list)\n"
   ]
  },
  {
   "cell_type": "code",
   "execution_count": null,
   "id": "7e7be9d5-7d82-4d81-a00a-aa8945c5fc42",
   "metadata": {},
   "outputs": [],
   "source": []
  },
  {
   "cell_type": "markdown",
   "id": "485781e2-f472-4c91-b5fe-1b8c14d7ca5b",
   "metadata": {},
   "source": [
    "Q6. What is a complex number in mathematics, and how is it represented in Python?\n",
    "\n",
    "**Answer :**\n",
    "\n",
    "A complex number is a number of the form a + bi, where a and b are real numbers, and i is an imaginary unit satisfying i^2 = -1. For example, 2 + 3i is a complex number.\n",
    "\n",
    "In Python, complex numbers are represented using the complex() function. The complex() function takes two arguments, the real part and the imaginary part."
   ]
  },
  {
   "cell_type": "code",
   "execution_count": 8,
   "id": "939f8ab0-ccfd-4e50-b589-bd0e19ad7f9e",
   "metadata": {},
   "outputs": [
    {
     "name": "stdout",
     "output_type": "stream",
     "text": [
      "(2+5j)\n",
      "(2-5j)\n"
     ]
    }
   ],
   "source": [
    "# example \n",
    "cmp1 = complex(2,5)\n",
    "cmp2 = 2-5j\n",
    "print(cmp1)\n",
    "print(cmp2)"
   ]
  },
  {
   "cell_type": "code",
   "execution_count": null,
   "id": "cc052bed-d1ad-43e2-a890-b3ab5ec1f9e1",
   "metadata": {},
   "outputs": [],
   "source": []
  },
  {
   "cell_type": "markdown",
   "id": "32e3300d-4803-4f1f-8bfc-ac558adf8d62",
   "metadata": {},
   "source": [
    "Q7. What is the correct way to declare a variable named age and assign the value 25 to it?"
   ]
  },
  {
   "cell_type": "code",
   "execution_count": 9,
   "id": "0ee0f343-7d7c-4679-89fa-3c5c9be67c69",
   "metadata": {},
   "outputs": [
    {
     "name": "stdout",
     "output_type": "stream",
     "text": [
      "25\n"
     ]
    }
   ],
   "source": [
    "# answer\n",
    "age = 25\n",
    "print(age)"
   ]
  },
  {
   "cell_type": "code",
   "execution_count": null,
   "id": "d1fb0b2b-b7f5-46f7-8bfc-e099f37bca28",
   "metadata": {},
   "outputs": [],
   "source": []
  },
  {
   "cell_type": "markdown",
   "id": "ad2ac73f-eac8-403e-b541-04560d478849",
   "metadata": {
    "tags": []
   },
   "source": [
    "Q8. Declare a variable named price and assign the value 9.99 to it. What data type does this variable\n",
    "belong to?\n",
    "\n",
    "**Answer:**\n",
    "\n",
    "The price variable is now assigned the value 9.99. The data type of the price variable is float. This is because the value 9.99 is a floating-point number. Floating-point numbers are numbers that have a decimal point.\n"
   ]
  },
  {
   "cell_type": "code",
   "execution_count": 11,
   "id": "b8da0b58-3c2f-40a5-b037-fc82246dc73b",
   "metadata": {},
   "outputs": [
    {
     "name": "stdout",
     "output_type": "stream",
     "text": [
      "9.99 <class 'float'>\n"
     ]
    }
   ],
   "source": [
    "price = 9.99\n",
    "print(price , type(price))"
   ]
  },
  {
   "cell_type": "code",
   "execution_count": null,
   "id": "c39fae55-384d-4128-8a73-92a447001c3c",
   "metadata": {},
   "outputs": [],
   "source": []
  },
  {
   "cell_type": "markdown",
   "id": "7dc5835d-8e23-4bdd-93bf-ce84f53f8a69",
   "metadata": {},
   "source": [
    "Q9. Create a variable named name and assign your full name to it as a string. How would you print the\n",
    "value of this variable?\n",
    "\n"
   ]
  },
  {
   "cell_type": "code",
   "execution_count": 14,
   "id": "26ba35e3-d9b4-447d-88c3-8f89073ea054",
   "metadata": {},
   "outputs": [
    {
     "name": "stdout",
     "output_type": "stream",
     "text": [
      "Pamu sohith\n"
     ]
    },
    {
     "data": {
      "text/plain": [
       "\"'Pamu sohith'\""
      ]
     },
     "execution_count": 14,
     "metadata": {},
     "output_type": "execute_result"
    }
   ],
   "source": [
    "# answer\n",
    "name = \"Pamu sohith\"\n",
    "print(name)\n",
    "repr(name)"
   ]
  },
  {
   "cell_type": "code",
   "execution_count": null,
   "id": "08615694-d480-4b72-b6cb-e60e3e9ccd68",
   "metadata": {},
   "outputs": [],
   "source": []
  },
  {
   "cell_type": "markdown",
   "id": "8401713f-872b-4170-9471-83a5b7882f6b",
   "metadata": {},
   "source": [
    "Q10. Given the string \"Hello, World!\", extract the substring \"World\"."
   ]
  },
  {
   "cell_type": "code",
   "execution_count": 23,
   "id": "b70bac14-5c27-4a48-aeeb-d6102df6d1f6",
   "metadata": {},
   "outputs": [
    {
     "name": "stdout",
     "output_type": "stream",
     "text": [
      "World\n"
     ]
    }
   ],
   "source": [
    "string = \"Hello, World!\"\n",
    "\n",
    "# Extract the substring from index 6 to index 10.\n",
    "substring = string[7:-1]\n",
    "\n",
    "print(substring)\n"
   ]
  },
  {
   "cell_type": "code",
   "execution_count": null,
   "id": "b502ccae-5b9f-4427-9e4f-4db31ba7dbf7",
   "metadata": {},
   "outputs": [],
   "source": []
  },
  {
   "cell_type": "markdown",
   "id": "378dbd79-1031-41ab-be44-ea9b66da3707",
   "metadata": {},
   "source": [
    "Q11. Create a variable named \"is_student\" and assign it a boolean value indicating whether you are\n",
    "currently a student or not."
   ]
  },
  {
   "cell_type": "code",
   "execution_count": 24,
   "id": "76d3349a-d52c-4f30-87f5-2139e932b707",
   "metadata": {},
   "outputs": [
    {
     "name": "stdout",
     "output_type": "stream",
     "text": [
      "I am a student.\n"
     ]
    }
   ],
   "source": [
    "# answer\n",
    "is_student = True\n",
    "if is_student:\n",
    "    print(\"I am a student.\")\n",
    "else:\n",
    "    print(\"I am not a student.\")\n"
   ]
  }
 ],
 "metadata": {
  "kernelspec": {
   "display_name": "Python 3 (ipykernel)",
   "language": "python",
   "name": "python3"
  },
  "language_info": {
   "codemirror_mode": {
    "name": "ipython",
    "version": 3
   },
   "file_extension": ".py",
   "mimetype": "text/x-python",
   "name": "python",
   "nbconvert_exporter": "python",
   "pygments_lexer": "ipython3",
   "version": "3.10.8"
  }
 },
 "nbformat": 4,
 "nbformat_minor": 5
}
